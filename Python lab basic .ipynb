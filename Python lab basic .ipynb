{
 "cells": [
  {
   "cell_type": "markdown",
   "id": "c3792e81",
   "metadata": {},
   "source": [
    "# 1.Write a program to find prime number with in a range using function."
   ]
  },
  {
   "cell_type": "code",
   "execution_count": 2,
   "id": "ae4a4e4a",
   "metadata": {},
   "outputs": [
    {
     "name": "stdout",
     "output_type": "stream",
     "text": [
      "Enter the range.10,30\n",
      "[11, 13, 17, 19, 23, 29]\n"
     ]
    }
   ],
   "source": [
    "# Function to check and return prime number\n",
    "def isPrime(n):\n",
    "    c=0\n",
    "    for i in range(1,n+1):\n",
    "        if n%i ==0:\n",
    "            c+=1\n",
    "    if c==2:\n",
    "        return True\n",
    "    else:\n",
    "        return False\n",
    "\n",
    "# Function to calculate prime number within given range\n",
    "def primeCalculator(a,b):\n",
    "    primeList = []\n",
    "    for i in range(a,b+1):\n",
    "        if isPrime(i):\n",
    "            primeList.append(i)\n",
    "    return primeList\n",
    "\n",
    "# Asking for input\n",
    "n1,n2 = map(int,input(\"Enter the range.\").split(\",\"))\n",
    "if n1>n2:\n",
    "    print(primeCalculator(n2,n1))\n",
    "else:\n",
    "    print(primeCalculator(n1,n2))"
   ]
  },
  {
   "cell_type": "markdown",
   "id": "a9ab68a8",
   "metadata": {},
   "source": [
    "# 2.Write a program to check palindrome."
   ]
  },
  {
   "cell_type": "code",
   "execution_count": 3,
   "id": "ea99935d",
   "metadata": {},
   "outputs": [
    {
     "name": "stdout",
     "output_type": "stream",
     "text": [
      "Enter the number/string to be checked.12321\n",
      "Palindrome\n"
     ]
    }
   ],
   "source": [
    "# Function to check palindrome and return corresponding bool value \n",
    "def isPalindrome(n):\n",
    "    rev = n[::-1]\n",
    "    if rev == n:\n",
    "        return True\n",
    "    else:\n",
    "        return False\n",
    "\n",
    "# Main program\n",
    "n = input(\"Enter the number/string to be checked.\")\n",
    "if isPalindrome(n):\n",
    "    print(\"Palindrome\")\n",
    "else:\n",
    "    print(\"Not palindrome\")"
   ]
  },
  {
   "cell_type": "markdown",
   "id": "6a4bdc3b",
   "metadata": {},
   "source": [
    "# 3.Write a program to generate the Fibonacci sequence of a given number."
   ]
  },
  {
   "cell_type": "code",
   "execution_count": 4,
   "id": "1fd9b9dc",
   "metadata": {},
   "outputs": [
    {
     "name": "stdout",
     "output_type": "stream",
     "text": [
      "Enter the number of terms.5\n",
      "The fibonacci sequence is [0, 1, 1, 2, 3]\n"
     ]
    }
   ],
   "source": [
    "# Fibonacci number generator function\n",
    "def fibonacci(n):\n",
    "    ft = 0\n",
    "    st = 1\n",
    "    numberList = []\n",
    "    for _ in range (n):\n",
    "        numberList.append(ft)\n",
    "        nt = ft + st\n",
    "        ft = st\n",
    "        st = nt\n",
    "    return numberList\n",
    "\n",
    "# Main program\n",
    "number = int(input(\"Enter the number of terms.\"))\n",
    "print(f\"The fibonacci sequence is {fibonacci(number)}\")"
   ]
  },
  {
   "cell_type": "markdown",
   "id": "7afef561",
   "metadata": {},
   "source": [
    "# 4.Create a number guessing game. Where you have to generate a random number in between 1 to 100 and user have to prompt a number for guess. if its high or low number let the user know and guide them through the process to guess correct number."
   ]
  },
  {
   "cell_type": "code",
   "execution_count": 5,
   "id": "f697db13",
   "metadata": {},
   "outputs": [
    {
     "name": "stdout",
     "output_type": "stream",
     "text": [
      "Guess a number.54\n",
      "Guess higher.\n",
      "65\n",
      "Guess higher.\n",
      "79\n",
      "Guess lower\n",
      "74\n",
      "Guess higher.\n",
      "73\n",
      "Guess higher.\n",
      "78\n",
      "Guess lower\n",
      "76\n",
      "Guess higher.\n",
      "77\n",
      "Correct guess\n",
      "Wana play again?\n",
      "y/nn\n"
     ]
    }
   ],
   "source": [
    "import numpy as np\n",
    "\n",
    "mainLoop = True\n",
    "while mainLoop:\n",
    "    unknownNumber = np.random.randint(1,101)\n",
    "    guessedNumber = int(input(\"Guess a number.\"))\n",
    "    gameLoop = True\n",
    "    choiceLoop = True\n",
    "    while gameLoop:\n",
    "        if guessedNumber < unknownNumber:\n",
    "            print(\"Guess higher.\")\n",
    "            guessedNumber = int(input())\n",
    "        elif guessedNumber > unknownNumber:\n",
    "            print(\"Guess lower\")\n",
    "            guessedNumber = int(input())\n",
    "        else:\n",
    "            print(\"Correct guess\")\n",
    "            gameLoop = False\n",
    "    print(\"Wana play again?\")\n",
    "    choice = input(\"y/n\")\n",
    "    while choiceLoop:\n",
    "        if choice == 'y':\n",
    "            choiceLoop = False\n",
    "        elif choice == 'n':\n",
    "            choiceLoop = False\n",
    "            mainLoop = False\n",
    "        else:\n",
    "            print(\"Enter valid key\")\n",
    "            choice = input()"
   ]
  }
 ],
 "metadata": {
  "kernelspec": {
   "display_name": "Python 3 (ipykernel)",
   "language": "python",
   "name": "python3"
  },
  "language_info": {
   "codemirror_mode": {
    "name": "ipython",
    "version": 3
   },
   "file_extension": ".py",
   "mimetype": "text/x-python",
   "name": "python",
   "nbconvert_exporter": "python",
   "pygments_lexer": "ipython3",
   "version": "3.11.5"
  }
 },
 "nbformat": 4,
 "nbformat_minor": 5
}
